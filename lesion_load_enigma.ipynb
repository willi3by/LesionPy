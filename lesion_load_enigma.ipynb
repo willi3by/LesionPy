{
 "cells": [
  {
   "cell_type": "code",
   "execution_count": 5,
   "metadata": {},
   "outputs": [],
   "source": [
    "from lesionpy.cramer_lesion_load import extract_lesion_load_cramer\n",
    "from lesionpy.weighted_lesion_load import calculate_prob_weighted_lesion_load\n",
    "import os\n",
    "import pandas as pd\n",
    "from natsort import natsorted\n",
    "import ants\n",
    "from glob import glob\n",
    "import numpy as np\n",
    "import matplotlib.pyplot as plt"
   ]
  },
  {
   "cell_type": "code",
   "execution_count": 2,
   "metadata": {},
   "outputs": [],
   "source": [
    "lesion = ants.image_read('/Users/willi3by/Desktop/Cramer_ENIGMA_Analysis/ENIGMA_Lesions/sub-r001s015_ses-1_space-MNI152NLin2009aSym_label-L_desc-T1lesion_mask.nii.gz')"
   ]
  },
  {
   "cell_type": "code",
   "execution_count": 3,
   "metadata": {},
   "outputs": [],
   "source": [
    "lesion_load, lesion_load_arr = calculate_prob_weighted_lesion_load('./tract_templates/HCPA/HCPA_CST_Left_MNI.nii',\n",
    "                                                                   '/Users/willi3by/Desktop/Cramer_ENIGMA_Analysis/ENIGMA_Lesions/sub-r001s015_ses-1_space-MNI152NLin2009aSym_label-L_desc-T1lesion_mask.nii.gz')"
   ]
  },
  {
   "cell_type": "code",
   "execution_count": 6,
   "metadata": {},
   "outputs": [
    {
     "data": {
      "text/plain": [
       "[<matplotlib.lines.Line2D at 0x337de9040>]"
      ]
     },
     "execution_count": 6,
     "metadata": {},
     "output_type": "execute_result"
    },
    {
     "data": {
      "image/png": "[encoded data removed]",
      "text/plain": [
       "<Figure size 640x480 with 1 Axes>"
      ]
     },
     "metadata": {},
     "output_type": "display_data"
    }
   ],
   "source": [
    "plt.plot(lesion_load_arr)"
   ]
  },
  {
   "cell_type": "code",
   "execution_count": 7,
   "metadata": {},
   "outputs": [],
   "source": [
    "np.savetxt('lesion_load_arr.txt', lesion_load_arr)"
   ]
  },
  {
   "cell_type": "code",
   "execution_count": null,
   "metadata": {},
   "outputs": [],
   "source": [
    "tract_niftis = glob('*nii')"
   ]
  },
  {
   "cell_type": "code",
   "execution_count": null,
   "metadata": {},
   "outputs": [],
   "source": [
    "for t in tract_niftis:\n",
    "    seg = ants.image_read(t)\n",
    "    seg[seg > 0] = 1\n",
    "    ants.image_write(seg, t)"
   ]
  },
  {
   "cell_type": "code",
   "execution_count": 4,
   "metadata": {},
   "outputs": [],
   "source": [
    "os.chdir('/Users/willi3by/Desktop/Cramer_ENIGMA_Analysis/ENIGMA_Lesions/')"
   ]
  },
  {
   "cell_type": "code",
   "execution_count": 5,
   "metadata": {},
   "outputs": [],
   "source": [
    "lesions = natsorted(os.listdir())"
   ]
  },
  {
   "cell_type": "markdown",
   "metadata": {},
   "source": [
    "## Lesion load variations\n",
    "- Grid Split Percent subsections (i.e. Cramer method)\n",
    "    - Cramer atlas left and right\n",
    "    - HCP left and right\n",
    "    - HCPA left and right\n",
    "- Radial Split Percent subsections\n",
    "    - Cramer atlas left and right\n",
    "    - HCP left and right\n",
    "    - HCPA left and right\n",
    "- Weighted Lesion load\n",
    "    - Cramer atlas left and right\n",
    "    - HCP left and right\n",
    "    - HCPA left and right\n",
    "- Max cross-sectional Weighted Lesion load\n",
    "    - Cramer atlas left and right\n",
    "    - HCP left and right\n",
    "    - HCPA left and right"
   ]
  },
  {
   "cell_type": "code",
   "execution_count": 22,
   "metadata": {},
   "outputs": [],
   "source": [
    "# perc_sub_cramer_left = []\n",
    "# perc_sub_cramer_right = []\n",
    "# perc_sub_hcp_left = []\n",
    "# perc_sub_hcp_right = []\n",
    "# perc_sub_hcpa_left = []\n",
    "# perc_sub_hcpa_right = []\n",
    "# radial_perc_sub_cramer_left = []\n",
    "# radial_perc_sub_cramer_right = []\n",
    "# radial_perc_sub_hcp_left = []\n",
    "# radial_perc_sub_hcp_right = []\n",
    "# radial_perc_sub_hcpa_left = []\n",
    "# radial_perc_sub_hcpa_right = []\n",
    "# wll_cramer_left =  []\n",
    "# wll_cramer_right = []\n",
    "# wll_hcp_left = []\n",
    "# wll_hcp_right = []\n",
    "# wll_hcpa_left = []\n",
    "# wll_hcpa_right = []\n",
    "# max_wll_cramer_left =  []\n",
    "# max_wll_cramer_right = []\n",
    "# max_wll_hcp_left = []\n",
    "# max_wll_hcp_right = []\n",
    "# max_wll_hcpa_left = []\n",
    "# max_wll_hcpa_right = []\n",
    "# cramer_base_path_grid = '/Users/willi3by/Desktop/LesionPy/tract_templates/cramer/16ths/'\n",
    "# hcp_base_path_grid = '/Users/willi3by/Desktop/LesionPy/tract_templates/HCP/16ths/'\n",
    "# hcpa_base_path_grid = '/Users/willi3by/Desktop/LesionPy/tract_templates/HCPA/16ths/'\n",
    "# cramer_base_path_radial = '/Users/willi3by/Desktop/LesionPy/tract_templates/cramer/radial_16ths/'\n",
    "# hcp_base_path_radial = '/Users/willi3by/Desktop/LesionPy/tract_templates/HCP/radial_16ths/'\n",
    "# hcpa_base_path_radial = '/Users/willi3by/Desktop/LesionPy/tract_templates/HCPA/radial_16ths/'\n",
    "# for l in lesions:\n",
    "#     perc_sub_cramer_left.append(extract_lesion_load_cramer(cramer_base_path_grid, 'left_uci', l))\n",
    "#     perc_sub_cramer_right.append(extract_lesion_load_cramer(cramer_base_path_grid, 'right_uci', l))\n",
    "#     perc_sub_hcp_left.append(extract_lesion_load_cramer(hcp_base_path_grid, 'xHCP_CST_Left', l))\n",
    "#     perc_sub_hcp_right.append(extract_lesion_load_cramer(hcp_base_path_grid, 'xHCP_CST_Right', l))\n",
    "#     perc_sub_hcpa_left.append(extract_lesion_load_cramer(hcpa_base_path_grid, 'sxHCPA_CST_Left', l))\n",
    "#     perc_sub_hcpa_right.append(extract_lesion_load_cramer(hcpa_base_path_grid, 'sxHCPA_CST_Right', l))\n",
    "#     radial_perc_sub_cramer_left.append(extract_lesion_load_cramer(cramer_base_path_radial, 'left_', l))\n",
    "#     radial_perc_sub_cramer_right.append(extract_lesion_load_cramer(cramer_base_path_radial, 'right_', l))\n",
    "#     radial_perc_sub_hcp_left.append(extract_lesion_load_cramer(hcp_base_path_radial, 'left_', l))\n",
    "#     radial_perc_sub_hcp_right.append(extract_lesion_load_cramer(hcp_base_path_radial, 'right_', l))\n",
    "#     radial_perc_sub_hcpa_left.append(extract_lesion_load_cramer(hcpa_base_path_radial, 'left_', l))\n",
    "#     radial_perc_sub_hcpa_right.append(extract_lesion_load_cramer(hcpa_base_path_radial, 'right_', l))\n",
    "#     wll_cramer_left.append(calculate_prob_weighted_lesion_load('/Users/willi3by/Desktop/LesionPy/tract_templates/cramer/left_cst_cramer.nii', l))\n",
    "#     wll_cramer_right.append(calculate_prob_weighted_lesion_load('/Users/willi3by/Desktop/LesionPy/tract_templates/cramer/right_cst_cramer.nii', l))\n",
    "#     wll_hcp_left.append(calculate_prob_weighted_lesion_load('/Users/willi3by/Desktop/LesionPy/tract_templates/HCP/HCP_CST_Left.nii', l))\n",
    "#     wll_hcp_right.append(calculate_prob_weighted_lesion_load('/Users/willi3by/Desktop/LesionPy/tract_templates/HCP/HCP_CST_Right.nii', l))\n",
    "#     wll_hcpa_left.append(calculate_prob_weighted_lesion_load('/Users/willi3by/Desktop/LesionPy/tract_templates/HCPA/HCPA_CST_Left_MNI.nii', l))\n",
    "#     wll_hcpa_right.append(calculate_prob_weighted_lesion_load('/Users/willi3by/Desktop/LesionPy/tract_templates/HCPA/HCPA_CST_Right_MNI.nii', l))\n",
    "#     max_wll_cramer_left.append(calculate_prob_weighted_lesion_load('/Users/willi3by/Desktop/LesionPy/tract_templates/cramer/left_cst_cramer.nii', l, return_max=True))\n",
    "#     max_wll_cramer_right.append(calculate_prob_weighted_lesion_load('/Users/willi3by/Desktop/LesionPy/tract_templates/cramer/right_cst_cramer.nii', l, return_max=True))\n",
    "#     max_wll_hcp_left.append(calculate_prob_weighted_lesion_load('/Users/willi3by/Desktop/LesionPy/tract_templates/HCP/HCP_CST_Left.nii', l, return_max=True))\n",
    "#     max_wll_hcp_right.append(calculate_prob_weighted_lesion_load('/Users/willi3by/Desktop/LesionPy/tract_templates/HCP/HCP_CST_Right.nii', l, return_max=True))\n",
    "#     max_wll_hcpa_left.append(calculate_prob_weighted_lesion_load('/Users/willi3by/Desktop/LesionPy/tract_templates/HCPA/HCPA_CST_Left_MNI.nii', l, return_max=True))\n",
    "#     max_wll_hcpa_right.append(calculate_prob_weighted_lesion_load('/Users/willi3by/Desktop/LesionPy/tract_templates/HCPA/HCPA_CST_Right_MNI.nii', l, return_max=True))"
   ]
  },
  {
   "cell_type": "code",
   "execution_count": 5,
   "metadata": {},
   "outputs": [],
   "source": [
    "# lesion_vols = []\n",
    "# for l in lesions:\n",
    "#     les = ants.image_read(l)\n",
    "#     lesion_vols.append(les.sum() * np.prod(les.spacing))\n",
    "\n",
    "# df = pd.DataFrame({'Subject': subs, 'Lesion_Volume': lesion_vols})\n",
    "# df = pd.DataFrame({'Subject': subs, 'Cramer_Left': perc_sub_cramer_left, 'Cramer_Right': perc_sub_cramer_right, 'HCP_Left': perc_sub_hcp_left, 'HCP_Right': perc_sub_hcp_right, 'HCPA_Left': perc_sub_hcpa_left, 'HCPA_Right': perc_sub_hcpa_right, 'Radial_Cramer_Left': radial_perc_sub_cramer_left, 'Radial_Cramer_Right': radial_perc_sub_cramer_right, 'Radial_HCP_Left': radial_perc_sub_hcp_left, 'Radial_HCP_Right': radial_perc_sub_hcp_right, 'Radial_HCPA_Left': radial_perc_sub_hcpa_left, 'Radial_HCPA_Right': radial_perc_sub_hcpa_right, 'WLL_Cramer_Left': wll_cramer_left, 'WLL_Cramer_Right': wll_cramer_right, 'WLL_HCP_Left': wll_hcp_left, 'WLL_HCP_Right': wll_hcp_right, 'WLL_HCPA_Left': wll_hcpa_left, 'WLL_HCPA_Right': wll_hcpa_right, 'Max_WLL_Cramer_Left': max_wll_cramer_left, 'Max_WLL_Cramer_Right': max_wll_cramer_right, 'Max_WLL_HCP_Left': max_wll_hcp_left, 'Max_WLL_HCP_Right': max_wll_hcp_right, 'Max_WLL_HCPA_Left': max_wll_hcpa_left, 'Max_WLL_HCPA_Right': max_wll_hcpa_right})\n",
    "# df.to_csv('/Users/willi3by/Desktop/lesion_vols.csv', index=False)"
   ]
  },
  {
   "cell_type": "markdown",
   "metadata": {},
   "source": [
    "## Get lesion load for M1 (AAL Atlas) and section of CC."
   ]
  },
  {
   "cell_type": "code",
   "execution_count": 7,
   "metadata": {},
   "outputs": [],
   "source": [
    "subs = [l[:12] for l in lesions]"
   ]
  },
  {
   "cell_type": "code",
   "execution_count": 8,
   "metadata": {},
   "outputs": [],
   "source": [
    "# left_M1 = ants.image_read('/Users/willi3by/Desktop/Cramer_ENIGMA_Analysis/left_M1.nii')\n",
    "# right_M1 = ants.image_read('/Users/willi3by/Desktop/Cramer_ENIGMA_Analysis/right_M1.nii')\n",
    "# motor_cc = ants.image_read('/Users/willi3by/Desktop/Cramer_ENIGMA_Analysis/Control_motor_tracts_thr3.nii')\n",
    "# sensory_cc = ants.image_read('/Users/willi3by/Desktop/Cramer_ENIGMA_Analysis/Control_sensory_tracts_thr3.nii')\n",
    "# combined_cc = ants.image_read('/Users/willi3by/Desktop/Cramer_ENIGMA_Analysis/Control_CC_mask_combined_bin.nii.gz')"
   ]
  },
  {
   "cell_type": "code",
   "execution_count": 20,
   "metadata": {},
   "outputs": [],
   "source": [
    "# all_left_M1_lesion_loads = []\n",
    "# all_right_M1_lesion_loads = []\n",
    "# all_motor_cc_lesion_loads = []\n",
    "# all_sensory_cc_lesion_loads = []\n",
    "# all_combined_cc_lesion_loads = []\n",
    "\n",
    "# for l in lesions:\n",
    "#     les = ants.image_read(l)\n",
    "#     les_resamp_M1 = ants.resample_image_to_target(les, left_M1)\n",
    "#     les_resamp_cc = ants.resample_image_to_target(les, motor_cc)\n",
    "#     left_M1_lesion_load = (les_resamp_M1 * left_M1).sum() / left_M1.sum()\n",
    "#     right_M1_lesion_load = (les_resamp_M1 * right_M1).sum() / right_M1.sum()\n",
    "#     motor_cc_lesion_load = (les_resamp_cc * motor_cc).sum() / motor_cc.sum()\n",
    "#     sensory_cc_lesion_load = (les_resamp_cc * sensory_cc).sum() / sensory_cc.sum()\n",
    "#     combined_cc_lesion_load = (les_resamp_cc * combined_cc).sum() / combined_cc.sum()\n",
    "#     all_left_M1_lesion_loads.append(left_M1_lesion_load)\n",
    "#     all_right_M1_lesion_loads.append(right_M1_lesion_load)\n",
    "#     all_motor_cc_lesion_loads.append(motor_cc_lesion_load)\n",
    "#     all_sensory_cc_lesion_loads.append(sensory_cc_lesion_load)\n",
    "#     all_combined_cc_lesion_loads.append(combined_cc_lesion_load)\n",
    "\n",
    "# df = pd.DataFrame({'Subject': subs, 'Left_M1': all_left_M1_lesion_loads, 'Right_M1': all_right_M1_lesion_loads, 'Motor_CC': all_motor_cc_lesion_loads, 'Sensory_CC': all_sensory_cc_lesion_loads, 'Combined_CC': all_combined_cc_lesion_loads})\n",
    "# df.to_csv('/Users/willi3by/Desktop/Cramer_ENIGMA_Analysis/M1_and_CC_lesion_loads.csv', index=False)"
   ]
  },
  {
   "cell_type": "code",
   "execution_count": 30,
   "metadata": {},
   "outputs": [],
   "source": [
    "left_cst_bin = ants.image_read('/Users/willi3by/Desktop/LesionPy/tract_templates/HCPA/HCPA_CST_Left_MNI.nii')\n",
    "right_cst_bin = ants.image_read('/Users/willi3by/Desktop/LesionPy/tract_templates/HCPA/HCPA_CST_Right_MNI.nii')\n",
    "left_cst = ants.image_read('/Users/willi3by/Desktop/LesionPy/tract_templates/HCPA/HCPA_CST_Left_MNI.nii')\n",
    "right_cst = ants.image_read('/Users/willi3by/Desktop/LesionPy/tract_templates/HCPA/HCPA_CST_Right_MNI.nii')"
   ]
  },
  {
   "cell_type": "code",
   "execution_count": 31,
   "metadata": {},
   "outputs": [],
   "source": [
    "#Loop through lesions and slices (z dim) of the CSTs to calculate the amount of times each voxel is lesioned across subjects.\n",
    "for l in lesions:\n",
    "    les = ants.image_read(l)\n",
    "    les_resamp = ants.resample_image_to_target(les, left_cst_bin, interp_type='genericLabel')\n",
    "    left_cst += (les_resamp * left_cst_bin)\n",
    "    right_cst += (les_resamp * right_cst_bin)\n",
    "        "
   ]
  },
  {
   "cell_type": "code",
   "execution_count": 35,
   "metadata": {},
   "outputs": [],
   "source": [
    "left_cst = (left_cst / len(lesions)) * 100\n",
    "right_cst = (right_cst / len(lesions)) * 100"
   ]
  },
  {
   "cell_type": "code",
   "execution_count": 36,
   "metadata": {},
   "outputs": [],
   "source": [
    "ants.image_write(left_cst, '/Users/willi3by/Desktop/Cramer_ENIGMA_Analysis/HCPA_CST_Left_MNI_lesioned.nii')\n",
    "ants.image_write(right_cst, '/Users/willi3by/Desktop/Cramer_ENIGMA_Analysis/HCPA_CST_Right_MNI_lesioned.nii')"
   ]
  },
  {
   "cell_type": "code",
   "execution_count": null,
   "metadata": {},
   "outputs": [],
   "source": []
  }
 ],
 "metadata": {
  "kernelspec": {
   "display_name": "base",
   "language": "python",
   "name": "python3"
  },
  "language_info": {
   "codemirror_mode": {
    "name": "ipython",
    "version": 3
   },
   "file_extension": ".py",
   "mimetype": "text/x-python",
   "name": "python",
   "nbconvert_exporter": "python",
   "pygments_lexer": "ipython3",
   "version": "3.9.10"
  }
 },
 "nbformat": 4,
 "nbformat_minor": 2
}
